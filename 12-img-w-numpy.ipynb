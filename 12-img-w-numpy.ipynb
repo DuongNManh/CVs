{
 "cells": [
  {
   "cell_type": "code",
   "execution_count": null,
   "id": "4ef52c27-6e2d-4cc1-8ca0-d1cf052cd859",
   "metadata": {},
   "outputs": [],
   "source": [
    "from PIL import Image\n",
    "from IPython.display import display\n",
    "import matplotlib.pyplot as plt\n",
    "import numpy as np"
   ]
  },
  {
   "cell_type": "code",
   "execution_count": null,
   "id": "7de29fc9-9748-4b2b-b5dc-2570a7756fc1",
   "metadata": {},
   "outputs": [],
   "source": [
    "# duong dan anh\n",
    "my_dir = 'C:/Users/Admin/Documents/CVs/img/'\n",
    "my_path = my_dir + \"2.jpg\";\n",
    "\n",
    "# doc anh\n",
    "img = Image.open(my_path)\n",
    "\n",
    "#chuyen anh ve array\n",
    "img_arr = np.array(img)\n",
    "print(img_arr.shape)\n",
    "\n",
    "#chuyen sang array anh xam\n",
    "img_gray_arr = np.array(img.convert('L'))\n",
    "print(img_gray_arr.shape)"
   ]
  },
  {
   "cell_type": "code",
   "execution_count": null,
   "id": "72efc8f7-f97c-4b3a-b6d9-cb2a1a48221c",
   "metadata": {},
   "outputs": [],
   "source": [
    "# bien doi anh xam theo yeu cau\n",
    "inv_img = 255 - img_gray_arr # invert ảnh bằng cách 255 - arr\n",
    "square_img = img_gray_arr ** 2 # bình phương giá trị pixel\n",
    "clamped_img = np.clip(img_gray_arr, 100, 200) # giới hạn giá trị pixel trong 100-200 (< 100 => = 100; > 200 => = 200)\n",
    "\n",
    "# hien thi hinh anh goc da bien doi voi khoang trang\n",
    "fig, axs = plt.subplots(2,2,figsize=(10,10)) # tao khung 2 2 fig size = 10\n",
    "fig.subplots_adjust(wspace=0.2,hspace=0.2) # tao khoang trong\n",
    "\n",
    "axs[0,0].imshow(img_gray_arr, cmap=\"gray\")\n",
    "axs[0,0].set_title(\"original img\")\n",
    "\n",
    "axs[0,1].imshow(inv_img, cmap=\"gray\")\n",
    "axs[0,1].set_title(\"Inverted img\")\n",
    "\n",
    "axs[1,0].imshow(square_img, cmap=\"gray\")\n",
    "axs[1,0].set_title(\"Square img\")\n",
    "\n",
    "axs[1,1].imshow(clamped_img, cmap=\"gray\")\n",
    "axs[1,1].set_title(\"Clamped img\")"
   ]
  },
  {
   "cell_type": "code",
   "execution_count": null,
   "id": "2c8d84f6-8efb-4f34-8ef8-cccc2b881f86",
   "metadata": {},
   "outputs": [],
   "source": []
  }
 ],
 "metadata": {
  "kernelspec": {
   "display_name": "Python [conda env:base] *",
   "language": "python",
   "name": "conda-base-py"
  },
  "language_info": {
   "codemirror_mode": {
    "name": "ipython",
    "version": 3
   },
   "file_extension": ".py",
   "mimetype": "text/x-python",
   "name": "python",
   "nbconvert_exporter": "python",
   "pygments_lexer": "ipython3",
   "version": "3.12.7"
  }
 },
 "nbformat": 4,
 "nbformat_minor": 5
}
