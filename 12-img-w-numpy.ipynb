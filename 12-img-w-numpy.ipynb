{
 "cells": [
  {
   "cell_type": "code",
   "execution_count": 3,
   "id": "4ef52c27-6e2d-4cc1-8ca0-d1cf052cd859",
   "metadata": {},
   "outputs": [],
   "source": [
    "from PIL import Image\n",
    "from IPython.display import display\n",
    "import matplotlib.pyplot as plt\n",
    "import numpy as np"
   ]
  },
  {
   "cell_type": "code",
   "execution_count": 15,
   "id": "7de29fc9-9748-4b2b-b5dc-2570a7756fc1",
   "metadata": {},
   "outputs": [
    {
     "name": "stdout",
     "output_type": "stream",
     "text": [
      "(960, 952, 3)\n",
      "(960, 952)\n"
     ]
    }
   ],
   "source": [
    "# duong dan anh\n",
    "my_dir = 'C:/Users/Admin/Documents/CVs/img/'\n",
    "my_path = my_dir + \"2.jpg\";\n",
    "\n",
    "# doc anh\n",
    "img = Image.open(my_path)\n",
    "\n",
    "#chuyen anh ve array\n",
    "img_arr = np.array(img)\n",
    "print(img_arr.shape)\n",
    "\n",
    "#chuyen sang array anh xam\n",
    "img_gray_arr = np.array(img.convert('L'))\n",
    "print(img_gray_arr.shape)"
   ]
  }
 ],
 "metadata": {
  "kernelspec": {
   "display_name": "Python [conda env:base] *",
   "language": "python",
   "name": "conda-base-py"
  },
  "language_info": {
   "codemirror_mode": {
    "name": "ipython",
    "version": 3
   },
   "file_extension": ".py",
   "mimetype": "text/x-python",
   "name": "python",
   "nbconvert_exporter": "python",
   "pygments_lexer": "ipython3",
   "version": "3.12.7"
  }
 },
 "nbformat": 4,
 "nbformat_minor": 5
}
