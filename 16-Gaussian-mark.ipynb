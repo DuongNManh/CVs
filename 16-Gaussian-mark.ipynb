{
 "cells": [
  {
   "cell_type": "code",
   "execution_count": null,
   "id": "5abfce86-c065-48da-ae13-80cda2819105",
   "metadata": {},
   "outputs": [],
   "source": [
    "from PIL import Image\n",
    "from IPython.display import display\n",
    "import matplotlib.pyplot as plt\n",
    "import numpy as np\n",
    "from scipy import ndimage"
   ]
  },
  {
   "cell_type": "code",
   "execution_count": null,
   "id": "658e8516-07d3-4972-8174-29d64fb88731",
   "metadata": {},
   "outputs": [],
   "source": [
    "# duong dan anh\n",
    "my_dir = 'C:/Users/Admin/Documents/CVs/img/'\n",
    "my_path = my_dir + \"2.jpg\";\n",
    "\n",
    "# doc anh\n",
    "img = Image.open(my_path)\n",
    "\n",
    "#chuyen anh ve array\n",
    "img_arr = np.array(img)\n",
    "print(img_arr.shape)\n",
    "\n",
    "#chuyen sang array anh xam\n",
    "img_gray_arr = np.array(img.convert('L'))\n",
    "print(img_gray_arr.shape)"
   ]
  },
  {
   "cell_type": "code",
   "execution_count": null,
   "id": "1fe0844d-d174-4c6b-a80a-1eebde66e7a8",
   "metadata": {},
   "outputs": [],
   "source": [
    "#Làm mờ ảnh với bộ lọc Gaussian\n",
    "blurred_img_1 = ndimage.gaussian_filter(img_gray_arr, sigma=0.5, mode=\"constant\")\n",
    "blurred_img_2 = ndimage.gaussian_filter(img_gray_arr, sigma=1, mode=\"constant\")\n",
    "blurred_img_3 = ndimage.gaussian_filter(img_gray_arr, sigma=4, mode=\"constant\")\n",
    "\n",
    "#hiển thị ảnh theo ô\n",
    "# tạo lưới 2x2 show ảnh và biểu đồ\n",
    "plt.figure(figsize=(15,10))\n",
    "\n",
    "# ảnh gốc\n",
    "plt.subplot(2,2,1)\n",
    "plt.imshow(img_gray_arr, cmap='gray')\n",
    "plt.title(\"Original\")\n",
    "\n",
    "# ảnh blurred 1\n",
    "plt.subplot(2,2,2)\n",
    "plt.imshow(blurred_img_1, cmap='gray')\n",
    "plt.title(\"blurred 1\")\n",
    "\n",
    "# ảnh blurred 2\n",
    "plt.subplot(2,2,3)\n",
    "plt.imshow(blurred_img_2, cmap='gray')\n",
    "plt.title(\"blurred 2\")\n",
    "\n",
    "# ảnh blurred 3\n",
    "plt.subplot(2,2,4)\n",
    "plt.imshow(blurred_img_3, cmap='gray')\n",
    "plt.title(\"blurred 3\")"
   ]
  },
  {
   "cell_type": "code",
   "execution_count": null,
   "id": "059fb9e6-ccb6-49ec-94df-ebf08eedb016",
   "metadata": {},
   "outputs": [],
   "source": []
  }
 ],
 "metadata": {
  "kernelspec": {
   "display_name": "Python [conda env:base] *",
   "language": "python",
   "name": "conda-base-py"
  },
  "language_info": {
   "codemirror_mode": {
    "name": "ipython",
    "version": 3
   },
   "file_extension": ".py",
   "mimetype": "text/x-python",
   "name": "python",
   "nbconvert_exporter": "python",
   "pygments_lexer": "ipython3",
   "version": "3.12.7"
  },
  "panel-cell-order": [
   "1251a23a-c857-4f52-a9c2-dccce6822703"
  ]
 },
 "nbformat": 4,
 "nbformat_minor": 5
}
