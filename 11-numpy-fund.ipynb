{
 "cells": [
  {
   "cell_type": "code",
   "execution_count": 1,
   "id": "2c2a47a1-a74f-46c4-9017-4688c0851558",
   "metadata": {},
   "outputs": [
    {
     "name": "stdout",
     "output_type": "stream",
     "text": [
      "[1 2 3]\n",
      "3\n"
     ]
    }
   ],
   "source": [
    "import numpy as np\n",
    "\n",
    "# tạo mảng\n",
    "a = np.array([1,2,3])\n",
    "\n",
    "#in mảng\n",
    "print(a)\n",
    "\n",
    "#in ra 1 phan tu\n",
    "ele = a[2]\n",
    "print(ele)"
   ]
  },
  {
   "cell_type": "code",
   "execution_count": 2,
   "id": "cf46c051-1824-4e43-9612-6c778d81d31d",
   "metadata": {},
   "outputs": [
    {
     "name": "stdout",
     "output_type": "stream",
     "text": [
      "[[1 2 3]\n",
      " [3 5 4]\n",
      " [2 1 3]]\n",
      "3\n"
     ]
    }
   ],
   "source": [
    "# tạo mảng 2 chiều\n",
    "matrix = np.array([[1,2,3],[3,5,4],[2,1,3]])\n",
    "\n",
    "#in mảng\n",
    "print(matrix)\n",
    "\n",
    "#in ra 1 phan tu\n",
    "ele = matrix[2,2]\n",
    "print(ele)"
   ]
  },
  {
   "cell_type": "code",
   "execution_count": 3,
   "id": "e6be254b-262d-4f10-a755-30aa8421db20",
   "metadata": {},
   "outputs": [
    {
     "name": "stdout",
     "output_type": "stream",
     "text": [
      "[1. 1. 1. 1. 1. 1. 1. 1. 1. 1.]\n"
     ]
    }
   ],
   "source": [
    "# tạo mảng full zero\n",
    "a = np.ones(10)\n",
    "print(a)"
   ]
  },
  {
   "cell_type": "code",
   "execution_count": 4,
   "id": "f7f31a51-b72b-4eef-9601-79fc5e6557ba",
   "metadata": {},
   "outputs": [
    {
     "name": "stdout",
     "output_type": "stream",
     "text": [
      "[ 2  3  4  5  6  7  8  9 10 11 12 13 14 15 16 17 18 19 20 21 22 23 24 25\n",
      " 26 27 28 29 30 31 32 33 34 35 36 37 38 39 40 41 42 43 44 45 46 47 48 49\n",
      " 50 51 52 53 54 55 56 57 58 59 60 61 62 63 64 65 66 67 68 69 70 71 72 73\n",
      " 74 75 76 77 78 79 80 81 82 83 84 85 86 87 88 89 90 91 92 93 94 95 96 97\n",
      " 98 99]\n",
      "[ 2  5  8 11 14 17 20 23 26 29 32 35 38 41 44 47 50 53 56 59 62 65 68 71\n",
      " 74 77 80 83 86 89 92 95 98]\n",
      "[1 1 1 1 1]\n"
     ]
    }
   ],
   "source": [
    "# tạo mảng từ 1 -> 100\n",
    "a = np.arange(2,100)\n",
    "print(a)\n",
    "\n",
    "# tạo mảng cách đều\n",
    "a = np.arange(2,100,3)\n",
    "print(a)\n",
    "\n",
    "# xac dinh kieu du lieu\n",
    "a = np.ones(5, dtype=np.int64)\n",
    "print(a)"
   ]
  },
  {
   "cell_type": "code",
   "execution_count": 22,
   "id": "8a9cf082-1008-4452-82b6-3b0586322368",
   "metadata": {},
   "outputs": [
    {
     "name": "stdout",
     "output_type": "stream",
     "text": [
      "[3 6 9 1 3 2 5]\n",
      "[1 2 3 3 5 6 9]\n",
      "[9 6 5 3 3 2 1]\n",
      "[9 6 5 3 3 2 1 7]\n",
      "[9 6 5 3 2 1 7]\n"
     ]
    }
   ],
   "source": [
    "# thêm xóa sửa sx mảng\n",
    "\n",
    "# Tạo mảng ban đầu\n",
    "arr = np.array([3,6,9,1,3,2,5])\n",
    "print(arr)\n",
    "\n",
    "# sx\n",
    "arr = np.sort(arr)\n",
    "print(arr)\n",
    "\n",
    "# sx nguoc\n",
    "arr = arr[::-1]\n",
    "print(arr)\n",
    "\n",
    "#them phan tu vao mang\n",
    "arr = np.append(arr, 7)\n",
    "print(arr)\n",
    "\n",
    "#xoa phan tu trong mang\n",
    "arr = np.delete(arr,3)\n",
    "print(arr)\n",
    "\n"
   ]
  },
  {
   "cell_type": "code",
   "execution_count": 40,
   "id": "ad91c31a-d078-45d4-a895-b1277062d549",
   "metadata": {},
   "outputs": [
    {
     "name": "stdout",
     "output_type": "stream",
     "text": [
      "[[1 2 3]\n",
      " [3 5 4]\n",
      " [2 1 3]\n",
      " [4 2 3]\n",
      " [1 5 4]\n",
      " [6 1 3]]\n",
      "[[1 2 3]\n",
      " [3 4 5]\n",
      " [1 2 3]\n",
      " [2 3 4]\n",
      " [1 4 5]\n",
      " [1 3 6]]\n",
      "[[3 4 6]\n",
      " [2 4 5]\n",
      " [1 3 5]\n",
      " [1 3 4]\n",
      " [1 2 3]\n",
      " [1 2 3]]\n"
     ]
    }
   ],
   "source": [
    "# tao 1 mang 2 chieu\n",
    "matrix = np.array([[1,2,3],[3,5,4],[2,1,3],[4,2,3],[1,5,4],[6,1,3]])\n",
    "print(matrix)\n",
    "\n",
    "#sap xep theo hang\n",
    "matrix = np.sort(matrix, axis = 1) #tang dan \n",
    "print(matrix)\n",
    "\n",
    "#sap xep theo cot\n",
    "matrix = -np.sort(-matrix, axis = 0) # giam dan, thêm - trước matrix và np\n",
    "print(matrix)"
   ]
  }
 ],
 "metadata": {
  "kernelspec": {
   "display_name": "Python [conda env:base] *",
   "language": "python",
   "name": "conda-base-py"
  },
  "language_info": {
   "codemirror_mode": {
    "name": "ipython",
    "version": 3
   },
   "file_extension": ".py",
   "mimetype": "text/x-python",
   "name": "python",
   "nbconvert_exporter": "python",
   "pygments_lexer": "ipython3",
   "version": "3.12.7"
  }
 },
 "nbformat": 4,
 "nbformat_minor": 5
}
