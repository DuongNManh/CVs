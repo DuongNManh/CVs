{
 "cells": [
  {
   "cell_type": "code",
   "execution_count": null,
   "id": "2c2a47a1-a74f-46c4-9017-4688c0851558",
   "metadata": {},
   "outputs": [],
   "source": [
    "import numpy as np\n",
    "\n",
    "# tạo mảng\n",
    "a = np.array([1,2,3])\n",
    "\n",
    "#in mảng\n",
    "print(a)\n",
    "\n",
    "#in ra 1 phan tu\n",
    "ele = a[2]\n",
    "print(ele)"
   ]
  },
  {
   "cell_type": "code",
   "execution_count": null,
   "id": "cf46c051-1824-4e43-9612-6c778d81d31d",
   "metadata": {},
   "outputs": [],
   "source": [
    "# tạo mảng 2 chiều\n",
    "matrix = np.array([[1,2,3],[3,5,4],[2,1,3]])\n",
    "\n",
    "#in mảng\n",
    "print(matrix)\n",
    "\n",
    "#in ra 1 phan tu\n",
    "ele = matrix[2,2]\n",
    "print(ele)"
   ]
  },
  {
   "cell_type": "code",
   "execution_count": null,
   "id": "e6be254b-262d-4f10-a755-30aa8421db20",
   "metadata": {},
   "outputs": [],
   "source": [
    "# tạo mảng full zero\n",
    "a = np.ones(10)\n",
    "print(a)"
   ]
  },
  {
   "cell_type": "code",
   "execution_count": null,
   "id": "f7f31a51-b72b-4eef-9601-79fc5e6557ba",
   "metadata": {},
   "outputs": [],
   "source": [
    "# tạo mảng từ 1 -> 100\n",
    "a = np.arange(2,100)\n",
    "print(a)\n",
    "\n",
    "# tạo mảng cách đều\n",
    "a = np.arange(2,100,3)\n",
    "print(a)\n",
    "\n",
    "# xac dinh kieu du lieu\n",
    "a = np.ones(5, dtype=np.int64)\n",
    "print(a)"
   ]
  },
  {
   "cell_type": "code",
   "execution_count": null,
   "id": "8a9cf082-1008-4452-82b6-3b0586322368",
   "metadata": {},
   "outputs": [],
   "source": [
    "# thêm xóa sửa sx mảng\n",
    "\n",
    "# Tạo mảng ban đầu\n",
    "arr = np.array([3,6,9,1,3,2,5])\n",
    "print(arr)\n",
    "\n",
    "# sx\n",
    "arr = np.sort(arr)\n",
    "print(arr)\n",
    "\n",
    "# sx nguoc\n",
    "arr = arr[::-1]\n",
    "print(arr)\n",
    "\n",
    "#them phan tu vao mang\n",
    "arr = np.append(arr, 7)\n",
    "print(arr)\n",
    "\n",
    "#xoa phan tu trong mang\n",
    "arr = np.delete(arr,3)\n",
    "print(arr)\n",
    "\n"
   ]
  },
  {
   "cell_type": "code",
   "execution_count": null,
   "id": "ad91c31a-d078-45d4-a895-b1277062d549",
   "metadata": {},
   "outputs": [],
   "source": [
    "# tao 1 mang 2 chieu\n",
    "matrix = np.array([[1,2,3],[3,5,4],[2,1,3],[4,2,3],[1,5,4],[6,1,3]])\n",
    "print(matrix)\n",
    "\n",
    "#sap xep theo hang\n",
    "matrix = np.sort(matrix, axis = 1) #tang dan \n",
    "print(matrix)\n",
    "\n",
    "#sap xep theo cot\n",
    "matrix = -np.sort(-matrix, axis = 0) # giam dan, thêm - trước matrix và np\n",
    "print(matrix)"
   ]
  },
  {
   "cell_type": "code",
   "execution_count": null,
   "id": "e07a69fe-c330-4354-b817-c9ab263a5d7b",
   "metadata": {},
   "outputs": [],
   "source": [
    "# tao 1 mang 2 chieu\n",
    "matrix = np.array([[1,2,3],[3,5,4],[2,1,3],[4,2,3],[1,5,4],[6,1,3]])\n",
    "\n",
    "# lay thong tin ve mang \n",
    "dim = matrix.ndim\n",
    "size = matrix.size\n",
    "shape = matrix.shape\n",
    "\n",
    "# in thong tin ve mang\n",
    "print(\"so chieu:\", dim)\n",
    "print(\"kich thuoc:\", size)\n",
    "print(\"hinh dang:\", shape)"
   ]
  },
  {
   "cell_type": "code",
   "execution_count": null,
   "id": "70188c73-d79d-43c2-a8d8-773308f0d6f5",
   "metadata": {},
   "outputs": [],
   "source": [
    "#chuyen doi kieu du lieu\n",
    "\n",
    "arr = np.array([1,2,3,4,5,6])\n",
    "print(arr)\n",
    "\n",
    "arr_fl = arr.astype(float)\n",
    "print(arr_fl)\n",
    "\n",
    "arr_str = arr.astype(str)\n",
    "print(arr_str)\n",
    "\n",
    "arr_rv = arr_str.astype(int)\n",
    "print(arr_rv)"
   ]
  },
  {
   "cell_type": "code",
   "execution_count": null,
   "id": "576c67da-0c94-45a4-a89d-7835d083f241",
   "metadata": {},
   "outputs": [],
   "source": [
    "#chuyen doi kieu du lieu\n",
    "\n",
    "arr = np.array([1,2,3,4,5,6])\n",
    "print(arr)\n",
    "\n",
    "resharp_arr = arr.reshape(3,2)\n",
    "print(resharp_arr)\n",
    "\n",
    "arr_rv = resharp_arr.flatten()\n",
    "print(arr_rv)"
   ]
  },
  {
   "cell_type": "code",
   "execution_count": null,
   "id": "6797ab60-4d4b-4028-b168-def6f9a15266",
   "metadata": {},
   "outputs": [],
   "source": [
    "#cat lat mang\n",
    "\n",
    "arr = np.array([1,2,3,4,5,6])\n",
    "print(arr)\n",
    "\n",
    "sub_arr = arr[1:4]\n",
    "print(sub_arr)\n",
    "\n",
    "sub_arr = arr[-1:]\n",
    "print(sub_arr)\n",
    "\n",
    "sub_arr = arr[:-1]\n",
    "print(sub_arr)"
   ]
  },
  {
   "cell_type": "code",
   "execution_count": null,
   "id": "dfddf15f-3381-484a-9a18-4870785003d3",
   "metadata": {},
   "outputs": [],
   "source": [
    "# chuyen vi mang\n",
    "arr = np.array([[1,2,3],[4,5,6],[7,8,9]])\n",
    "print(arr)\n",
    "# dùng .T hoặc numpy.transpose()\n",
    "trans_arr = arr.T\n",
    "print(trans_arr)"
   ]
  },
  {
   "cell_type": "code",
   "execution_count": null,
   "id": "98095a7c-e1d6-4e77-9a6b-868f262b3815",
   "metadata": {},
   "outputs": [],
   "source": [
    "#nối mảng\n",
    "\n",
    "arr1 = np.array([[1,2,3],[4,5,6],[7,8,9]])\n",
    "arr2 = np.array([[1,2,3],[4,5,6],[7,8,9]])\n",
    "\n",
    "arr = np.concatenate((arr1,arr2))\n",
    "print(arr)"
   ]
  },
  {
   "cell_type": "code",
   "execution_count": null,
   "id": "4444ca3a-35b2-4132-a850-e1fe95233f39",
   "metadata": {},
   "outputs": [],
   "source": [
    "# tinh tổng Sum\n",
    "arr1 = np.array([[1,2,3],[4,5,6],[7,8,9]])\n",
    "arr2 = np.array([[7,8,9],[1,2,3],[4,5,6]])\n",
    "total = np.sum(arr1)\n",
    "print(\"Sum:\", total)\n",
    "\n",
    "#Mean (trung bình)\n",
    "mean = np.mean(arr1)\n",
    "print(\"Mean:\", mean)\n",
    "\n",
    "#Max\n",
    "max_val = np.max(arr1)\n",
    "print(\"Max:\", max_val)\n",
    "\n",
    "#Min\n",
    "min_val = np.min(arr1)\n",
    "print(\"Min:\", min_val)\n",
    "\n",
    "# do lech chuan, standard Deviation\n",
    "std_val = np.std(arr1)\n",
    "print(\"Std:\", std_val)\n",
    "\n",
    "# phương sai, Varience\n",
    "var = np.var(arr1)\n",
    "print(\"Varience:\", var)\n",
    "\n",
    "# tích vô hướng (dot product)\n",
    "dot = np.dot(arr1, arr2)\n",
    "print(\"Dot prod:\", dot)"
   ]
  },
  {
   "cell_type": "code",
   "execution_count": null,
   "id": "9dc98b62-7e74-4aac-b993-6342a01a2e8a",
   "metadata": {},
   "outputs": [],
   "source": []
  }
 ],
 "metadata": {
  "kernelspec": {
   "display_name": "Python [conda env:base] *",
   "language": "python",
   "name": "conda-base-py"
  },
  "language_info": {
   "codemirror_mode": {
    "name": "ipython",
    "version": 3
   },
   "file_extension": ".py",
   "mimetype": "text/x-python",
   "name": "python",
   "nbconvert_exporter": "python",
   "pygments_lexer": "ipython3",
   "version": "3.12.7"
  }
 },
 "nbformat": 4,
 "nbformat_minor": 5
}
