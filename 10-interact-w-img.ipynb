{
 "cells": [
  {
   "cell_type": "code",
   "execution_count": 1,
   "id": "046f5752-8f23-4095-a93c-ad65fce34812",
   "metadata": {},
   "outputs": [],
   "source": [
    "from PIL import Image\n",
    "from IPython.display import display\n",
    "import matplotlib.pyplot as plt\n",
    "import numpy as np"
   ]
  },
  {
   "cell_type": "code",
   "execution_count": 2,
   "id": "8f8bf1fc-d4d7-481e-aad6-b09c770e17ed",
   "metadata": {},
   "outputs": [
    {
     "name": "stdout",
     "output_type": "stream",
     "text": [
      "[(148.22727272727258, 431.70779220779207), (353.4220779220778, 179.75974025974006), (704.0714285714284, 361.5779220779219), (693.681818181818, 535.603896103896), (626.1493506493505, 670.668831168831)]\n"
     ]
    }
   ],
   "source": [
    "# duong dan anh\n",
    "my_dir = 'C:/Users/Admin/Documents/CVs/img/'\n",
    "my_path = my_dir + \"2.jpg\";\n",
    "\n",
    "# doc anh\n",
    "img = Image.open(my_path)\n",
    "\n",
    "#chuyen doi backend neu dung jupiter lab\n",
    "plt.switch_backend('tkagg')\n",
    "\n",
    "plt.imshow(img)\n",
    "plt.title('Click on the image to select point')\n",
    "\n",
    "#su dung ham ginput de chon diem tren anh\n",
    "points =plt.ginput(5)\n",
    "\n",
    "print(points)\n",
    "\n",
    "#show anh\n",
    "\n",
    "plt.show()\n",
    "plt.close()"
   ]
  },
  {
   "cell_type": "code",
   "execution_count": 3,
   "id": "1867fe2e-a4db-4c29-bd3c-94497e241ca0",
   "metadata": {},
   "outputs": [],
   "source": [
    "# ve lai cac diem da chon\n",
    "plt.imshow(img)\n",
    "for point in points:\n",
    "    x, y = point\n",
    "    plt.plot(x,y, 'bo')\n",
    "\n",
    "plt.show()"
   ]
  }
 ],
 "metadata": {
  "kernelspec": {
   "display_name": "Python [conda env:base] *",
   "language": "python",
   "name": "conda-base-py"
  },
  "language_info": {
   "codemirror_mode": {
    "name": "ipython",
    "version": 3
   },
   "file_extension": ".py",
   "mimetype": "text/x-python",
   "name": "python",
   "nbconvert_exporter": "python",
   "pygments_lexer": "ipython3",
   "version": "3.12.7"
  }
 },
 "nbformat": 4,
 "nbformat_minor": 5
}
