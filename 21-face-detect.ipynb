{
 "cells": [
  {
   "cell_type": "code",
   "execution_count": 1,
   "id": "d4e05e5e-1348-4d30-bc8f-5641898814ae",
   "metadata": {
    "editable": true,
    "slideshow": {
     "slide_type": ""
    },
    "tags": []
   },
   "outputs": [],
   "source": [
    "import cv2\n",
    "# khởi tạo Haar Cascase Classifier nhận diện khuôn mặt\n",
    "face_cascade = cv2.CascadeClassifier('./data/haarcascade_frontalface_default.xml')\n",
    "# khởi tạo HCC nhận diện mắt\n",
    "eye_cascade = cv2.CascadeClassifier('data/haarcascade_eye_tree_eyeglasses.xml')\n",
    "# khởi tạo HCC nhận diện miệng\n",
    "smile_cascade = cv2.CascadeClassifier('data/haarcascade_smile.xml')\n",
    "# đọc ảnh\n",
    "img = cv2.imread('./img/2.jpg')\n",
    "# chuyển sang ảnh xám\n",
    "gray = cv2.cvtColor(img, cv2.COLOR_BGR2GRAY)"
   ]
  },
  {
   "cell_type": "code",
   "execution_count": 2,
   "id": "c04154fe-33cb-4cc0-9f75-4033d57eef11",
   "metadata": {},
   "outputs": [],
   "source": [
    "# gray = ảnh xám \n",
    "# scaleFactor = sau mỗi lần tìm kiếm, giảm kích thước ảnh đi .n x 10% để kiếm các đối tượng nhỏ hơn \n",
    "# minNeighbors = xác định 1 obj là khuôn mặt khi ít nhất n khu vực lân cận dc nhận diện là khuôn mặt\n",
    "# minSize = khuôn mặt tối thiểu là size pixel\n",
    "faces = face_cascade.detectMultiScale(gray, scaleFactor=1.2, minNeighbors=1, minSize=(5, 5))"
   ]
  },
  {
   "cell_type": "code",
   "execution_count": 3,
   "id": "69a21a07-15ba-441f-a4ff-b43fe7d90f70",
   "metadata": {},
   "outputs": [],
   "source": [
    "eyes = eye_cascade.detectMultiScale(gray, scaleFactor=1.1, minNeighbors=1, minSize=(1, 1))"
   ]
  },
  {
   "cell_type": "code",
   "execution_count": 4,
   "id": "69b420f6-6bfd-4c99-aaf0-d8dbcf2cae10",
   "metadata": {},
   "outputs": [],
   "source": [
    "smile = smile_cascade.detectMultiScale(gray, scaleFactor=1.9, minNeighbors=7, minSize=(3, 3))"
   ]
  },
  {
   "cell_type": "code",
   "execution_count": 5,
   "id": "d44407cf-697a-4391-b2de-2f02a1439f36",
   "metadata": {},
   "outputs": [],
   "source": [
    "def display(title, img):\n",
    "    cv2.imshow(title, img)\n",
    "    cv2.waitKey(0)\n",
    "    cv2.destroyWindow(title)"
   ]
  },
  {
   "cell_type": "code",
   "execution_count": 6,
   "id": "68c0c504-b5a1-49a5-99d9-fb4673cd6bd0",
   "metadata": {},
   "outputs": [],
   "source": [
    "#setup cac diem phat hien khuon mat\n",
    "for (x,y,w,h) in faces:\n",
    "    cv2.rectangle(img, (x,y), (x+w,y+h), (0,255,0), 2)\n"
   ]
  },
  {
   "cell_type": "code",
   "execution_count": 7,
   "id": "16783206-33db-4506-84db-ff161d7dbced",
   "metadata": {},
   "outputs": [],
   "source": [
    "#setup cac diem phat hien mat\n",
    "for (x,y,w,h) in eyes:\n",
    "    cv2.rectangle(img, (x,y), (x+w,y+h), (0,255,255), 1)\n"
   ]
  },
  {
   "cell_type": "code",
   "execution_count": 8,
   "id": "6ed6f552-7efb-464c-9e5f-a1174f54c1a7",
   "metadata": {},
   "outputs": [],
   "source": [
    "#setup cac diem phat hien mat\n",
    "for (x,y,w,h) in smile:\n",
    "    cv2.rectangle(img, (x,y), (x+w,y+h), (255,255,0), 1)\n"
   ]
  },
  {
   "cell_type": "code",
   "execution_count": 9,
   "id": "19bfdcf7-ad57-4b30-bd38-b454f0bd0dd2",
   "metadata": {},
   "outputs": [],
   "source": [
    "display('Face', img)"
   ]
  }
 ],
 "metadata": {
  "kernelspec": {
   "display_name": "Python [conda env:base] *",
   "language": "python",
   "name": "conda-base-py"
  },
  "language_info": {
   "codemirror_mode": {
    "name": "ipython",
    "version": 3
   },
   "file_extension": ".py",
   "mimetype": "text/x-python",
   "name": "python",
   "nbconvert_exporter": "python",
   "pygments_lexer": "ipython3",
   "version": "3.12.3"
  }
 },
 "nbformat": 4,
 "nbformat_minor": 5
}
