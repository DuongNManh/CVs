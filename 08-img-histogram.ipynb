{
 "cells": [
  {
   "cell_type": "code",
   "execution_count": null,
   "id": "5df56191-436d-4f1d-b3a9-fe16b71e0992",
   "metadata": {},
   "outputs": [],
   "source": [
    "from PIL import Image\n",
    "from IPython.display import display\n",
    "import matplotlib.pyplot as plt\n",
    "import numpy as np"
   ]
  },
  {
   "cell_type": "code",
   "execution_count": null,
   "id": "4545a0c6-467f-47f2-8861-a17f20449d78",
   "metadata": {},
   "outputs": [],
   "source": [
    "# duong dan anh\n",
    "my_dir = 'C:/Users/Admin/Documents/CVs/img/'\n",
    "my_path = my_dir + \"2.jpg\";\n",
    "\n",
    "# doc anh\n",
    "img = Image.open(my_path)\n",
    "\n",
    "#show anh\n",
    "plt.imshow(img)"
   ]
  },
  {
   "cell_type": "code",
   "execution_count": null,
   "id": "e5a6a6b2-7a2e-4a47-bece-990480238013",
   "metadata": {},
   "outputs": [],
   "source": [
    "# doc va show anh xam\n",
    "img_gray = img.convert('L')\n",
    "plt.imshow(img_gray, cmap='gray')"
   ]
  },
  {
   "cell_type": "code",
   "execution_count": null,
   "id": "0c1d399c-be16-4929-ad3f-6557c932b315",
   "metadata": {},
   "outputs": [],
   "source": [
    "# hien thi img histogram\n",
    "\n",
    "#bien anh thanh array\n",
    "img_array = np.array(img_gray)\n",
    "#show array diem anh\n",
    "print(img_array)"
   ]
  },
  {
   "cell_type": "code",
   "execution_count": null,
   "id": "4f460a5f-b592-478c-a6a0-a8157a7b0808",
   "metadata": {},
   "outputs": [],
   "source": [
    "# tao hinh ve moi tu array\n",
    "plt.figure()\n",
    "plt.hist(img_array.flatten(), bins=128)\n",
    "plt.title('Gray img histogram')\n",
    "plt.xlabel('img pixel value (max 255)')\n",
    "plt.ylabel('count')\n",
    "plt.show()"
   ]
  },
  {
   "cell_type": "code",
   "execution_count": null,
   "id": "b7b0c2af-b63b-432b-87ab-6544996c9a5d",
   "metadata": {},
   "outputs": [],
   "source": []
  }
 ],
 "metadata": {
  "kernelspec": {
   "display_name": "Python [conda env:base] *",
   "language": "python",
   "name": "conda-base-py"
  },
  "language_info": {
   "codemirror_mode": {
    "name": "ipython",
    "version": 3
   },
   "file_extension": ".py",
   "mimetype": "text/x-python",
   "name": "python",
   "nbconvert_exporter": "python",
   "pygments_lexer": "ipython3",
   "version": "3.12.7"
  }
 },
 "nbformat": 4,
 "nbformat_minor": 5
}
