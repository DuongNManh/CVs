{
 "cells": [
  {
   "cell_type": "code",
   "execution_count": null,
   "id": "6b0865fb-8b91-42af-9e64-1137241ab186",
   "metadata": {
    "editable": true,
    "slideshow": {
     "slide_type": ""
    },
    "tags": []
   },
   "outputs": [],
   "source": [
    "from PIL import Image\n",
    "from imgtools import *\n",
    "from IPython.display import display"
   ]
  },
  {
   "cell_type": "code",
   "execution_count": null,
   "id": "339de35c-5b64-4e8e-afe5-8b49c9dfe1e1",
   "metadata": {},
   "outputs": [],
   "source": [
    "# duong dan den anh - image path\n",
    "my_dir = 'C:/Users/Admin/Documents/CVs/img/'\n",
    "my_path = my_dir + \"2.jpg\";"
   ]
  },
  {
   "cell_type": "code",
   "execution_count": null,
   "id": "0d7056e2-5ef0-47d9-a0ca-ad26f58e282a",
   "metadata": {},
   "outputs": [],
   "source": [
    "# doc anh\n",
    "img = load_image(my_path)\n",
    "# img = img.resize((250,250))"
   ]
  },
  {
   "cell_type": "code",
   "execution_count": null,
   "id": "820f2d5b-ae42-4d60-8be1-3880f24987a5",
   "metadata": {},
   "outputs": [],
   "source": [
    "# show anh va kich thuoc ban dau\n",
    "display(img)\n",
    "print(\"first size:\", img.size)"
   ]
  },
  {
   "cell_type": "code",
   "execution_count": null,
   "id": "a95616af-b5f3-4224-904e-5d60c2e65921",
   "metadata": {},
   "outputs": [],
   "source": [
    "# xoay anh\n",
    "rotated_img = img.rotate(90)\n",
    "display(rotated_img)"
   ]
  },
  {
   "cell_type": "code",
   "execution_count": null,
   "id": "96bf52c5-77ff-43d6-b209-869e61cb54b8",
   "metadata": {},
   "outputs": [],
   "source": [
    "#transpose anh\n",
    "transpose_img = img.transpose(Image.Transpose.ROTATE_90)\n",
    "display(transpose_img)"
   ]
  }
 ],
 "metadata": {
  "kernelspec": {
   "display_name": "Python [conda env:base] *",
   "language": "python",
   "name": "conda-base-py"
  },
  "language_info": {
   "codemirror_mode": {
    "name": "ipython",
    "version": 3
   },
   "file_extension": ".py",
   "mimetype": "text/x-python",
   "name": "python",
   "nbconvert_exporter": "python",
   "pygments_lexer": "ipython3",
   "version": "3.12.7"
  },
  "panel-cell-order": [
   "1251a23a-c857-4f52-a9c2-dccce6822703"
  ]
 },
 "nbformat": 4,
 "nbformat_minor": 5
}
