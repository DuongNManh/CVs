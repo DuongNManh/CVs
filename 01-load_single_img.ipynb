{
 "cells": [
  {
   "cell_type": "code",
   "execution_count": 2,
   "id": "6b0865fb-8b91-42af-9e64-1137241ab186",
   "metadata": {
    "editable": true,
    "slideshow": {
     "slide_type": ""
    },
    "tags": []
   },
   "outputs": [],
   "source": [
    "from PIL import Image"
   ]
  },
  {
   "cell_type": "code",
   "execution_count": 3,
   "id": "339de35c-5b64-4e8e-afe5-8b49c9dfe1e1",
   "metadata": {},
   "outputs": [],
   "source": [
    "# folder chua anh\n",
    "dir = 'C:/Users/Admin/Documents/CVs/img/'"
   ]
  },
  {
   "cell_type": "code",
   "execution_count": 4,
   "id": "ec759e8c-e12f-470c-b684-53f329c30366",
   "metadata": {},
   "outputs": [
    {
     "name": "stdout",
     "output_type": "stream",
     "text": [
      "C:/Users/Admin/Documents/CVs/img/4.jpg\n"
     ]
    }
   ],
   "source": [
    "# duong dan den anh\n",
    "img_path = dir + '4.jpg'\n",
    "print(img_path)"
   ]
  },
  {
   "cell_type": "code",
   "execution_count": 5,
   "id": "e4e8f4a8-5a3e-4e44-a356-ff964aee5387",
   "metadata": {
    "editable": true,
    "slideshow": {
     "slide_type": ""
    },
    "tags": []
   },
   "outputs": [],
   "source": [
    "#su dung Image.open() doc anh\n",
    "img01 = Image.open(img_path)"
   ]
  },
  {
   "cell_type": "code",
   "execution_count": 6,
   "id": "79c69c3f-04f9-4685-8f79-6fca19b141f4",
   "metadata": {},
   "outputs": [
    {
     "name": "stdout",
     "output_type": "stream",
     "text": [
      "format:  JPEG\n",
      "size:  (2048, 1244)\n"
     ]
    }
   ],
   "source": [
    "# hien thi hinh anh\n",
    "img01.show()\n",
    "# in ra thong tin anh\n",
    "print(\"format: \", img01.format)\n",
    "print(\"size: \", img01.size)"
   ]
  },
  {
   "cell_type": "code",
   "execution_count": 21,
   "id": "439dfec6-f69e-4921-963d-acc205761d26",
   "metadata": {},
   "outputs": [],
   "source": [
    "# dong tap tin\n",
    "img01.close()"
   ]
  },
  {
   "cell_type": "code",
   "execution_count": 18,
   "id": "9d4229ea-4adf-49d0-ba49-18a33222b331",
   "metadata": {},
   "outputs": [],
   "source": [
    "# luu anh\n",
    "new_img_01_path = dir + 'new_04.png'\n",
    "img01.save(new_img_01_path)"
   ]
  }
 ],
 "metadata": {
  "kernelspec": {
   "display_name": "Python [conda env:base] *",
   "language": "python",
   "name": "conda-base-py"
  },
  "language_info": {
   "codemirror_mode": {
    "name": "ipython",
    "version": 3
   },
   "file_extension": ".py",
   "mimetype": "text/x-python",
   "name": "python",
   "nbconvert_exporter": "python",
   "pygments_lexer": "ipython3",
   "version": "3.12.7"
  },
  "panel-cell-order": [
   "1251a23a-c857-4f52-a9c2-dccce6822703"
  ]
 },
 "nbformat": 4,
 "nbformat_minor": 5
}
