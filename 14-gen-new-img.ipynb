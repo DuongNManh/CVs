{
 "cells": [
  {
   "cell_type": "code",
   "execution_count": null,
   "id": "b924a2db-4a61-46f9-829c-2d19678e842d",
   "metadata": {},
   "outputs": [],
   "source": [
    "import numpy as np\n",
    "from PIL import Image\n",
    "\n",
    "def avg_imgs(img_list):\n",
    "    total_arr = np.array(Image.open(img_list[0]), 'f')\n",
    "    count = 1\n",
    "\n",
    "    for img_path in img_list[1:]:\n",
    "        try:\n",
    "            img_arr = np.array(Image.open(img_path), 'f')\n",
    "            total_arr += img_arr\n",
    "            count += 1\n",
    "        except:\n",
    "            print(\"Skip \", img_path);\n",
    "\n",
    "    # tinh trung binh\n",
    "    avg_arr = total_arr / count\n",
    "    # chuyen doi ket qua avg thanh anh\n",
    "    avg_img = Image.fromarray(avg_arr.astype('uint8'))\n",
    "\n",
    "    return avg_img\n",
    "\n",
    "# vi du\n",
    "my_path_1 = 'C:/Users/Admin/Documents/CVs/img/1.png'\n",
    "my_path_2 = 'C:/Users/Admin/Documents/CVs/img/3.png'\n",
    "img_list = [my_path_1, my_path_2]\n",
    "result = avg_imgs(img_list)\n",
    "display(result)"
   ]
  }
 ],
 "metadata": {
  "kernelspec": {
   "display_name": "Python [conda env:base] *",
   "language": "python",
   "name": "conda-base-py"
  },
  "language_info": {
   "codemirror_mode": {
    "name": "ipython",
    "version": 3
   },
   "file_extension": ".py",
   "mimetype": "text/x-python",
   "name": "python",
   "nbconvert_exporter": "python",
   "pygments_lexer": "ipython3",
   "version": "3.12.7"
  }
 },
 "nbformat": 4,
 "nbformat_minor": 5
}
