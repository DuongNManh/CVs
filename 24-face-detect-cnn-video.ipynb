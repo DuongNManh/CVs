{
 "cells": [
  {
   "cell_type": "code",
   "execution_count": 1,
   "id": "ed350ee2-af6e-4e60-a38e-9485114bc6d8",
   "metadata": {},
   "outputs": [],
   "source": [
    "import cv2\n",
    "import numpy as np\n",
    "import time"
   ]
  },
  {
   "cell_type": "code",
   "execution_count": 2,
   "id": "49b24a5d-8512-4a12-8832-74cb5f262c07",
   "metadata": {},
   "outputs": [],
   "source": [
    "# setup camera\n",
    "cam = cv2.VideoCapture(0)"
   ]
  },
  {
   "cell_type": "code",
   "execution_count": 3,
   "id": "cddc7fa9-dfef-411c-bdb1-3954eb635e4b",
   "metadata": {},
   "outputs": [],
   "source": [
    "# tải mô hình đã dc huấn luyện\n",
    "net = cv2.dnn.readNetFromCaffe('./models/deploy.prototxt','./models/res10_300x300_ssd_iter_140000_fp16.caffemodel')\n",
    "# Initialize variables\n",
    "frame_count = 0\n",
    "start_time = time.time()\n",
    "font = cv2.FONT_HERSHEY_PLAIN\n",
    "    \n",
    "while True:\n",
    "    # Read frame from camera\n",
    "    ret, frame = cam.read()\n",
    "    if not ret:\n",
    "        break\n",
    "\n",
    "    # Get image dimensions (moved outside the face detection loop)\n",
    "    h, w = frame.shape[:2]\n",
    "\n",
    "    # Prepare input blob\n",
    "    blob = cv2.dnn.blobFromImage(frame, 1.0, (300, 300), (102, 105, 113), swapRB=False)\n",
    "\n",
    "    # Set input and run face detection\n",
    "    net.setInput(blob)\n",
    "    faces = net.forward()\n",
    "\n",
    "    # Calculate FPS efficiently\n",
    "    frame_count += 1\n",
    "    elapsed_time = time.time() - start_time\n",
    "    if elapsed_time > 0:\n",
    "        fps = frame_count / elapsed_time\n",
    "        fps_text = f'FPS: {fps:.2f}'\n",
    "        cv2.putText(frame, fps_text, (10, 50), font, 2, (255, 255, 0), 2)\n",
    "\n",
    "    # Iterate through detected faces\n",
    "    for i in range(faces.shape[2]):\n",
    "        confi = faces[0, 0, i, 2]  # Confidence score\n",
    "        if confi >= 0.7:  # Adjusted confidence threshold for better accuracy\n",
    "            # Compute bounding box coordinates\n",
    "            sx = int(faces[0,0,i,3] * w)  # X_min * width\n",
    "            sy = int(faces[0,0,i,4] * h)  # Y_min * height\n",
    "            ex = int(faces[0,0,i,5] * w)  # X_max * width\n",
    "            ey = int(faces[0,0,i,6] * h)  # Y_max * height\n",
    "\n",
    "            # Draw rectangle and display confidence score\n",
    "            cv2.rectangle(frame, (sx, sy), (ex, ey), (255, 255, 0), 1)\n",
    "            text = f'{confi * 100:.2f}%'\n",
    "            cv2.putText(frame, text, (sx, sy - 10), font, 2, (255, 0, 255), 1)\n",
    "\n",
    "    cv2.imshow('Detect', frame)\n",
    "    if cv2.waitKey(10) == ord('q'):\n",
    "        break\n",
    "\n",
    "# Cleanup resources\n",
    "cam.release()\n",
    "cv2.destroyAllWindows()"
   ]
  }
 ],
 "metadata": {
  "kernelspec": {
   "display_name": "Python [conda env:base] *",
   "language": "python",
   "name": "conda-base-py"
  },
  "language_info": {
   "codemirror_mode": {
    "name": "ipython",
    "version": 3
   },
   "file_extension": ".py",
   "mimetype": "text/x-python",
   "name": "python",
   "nbconvert_exporter": "python",
   "pygments_lexer": "ipython3",
   "version": "3.12.3"
  }
 },
 "nbformat": 4,
 "nbformat_minor": 5
}
