{
 "cells": [
  {
   "cell_type": "code",
   "execution_count": 1,
   "id": "16921317-2a34-4aa9-9edc-87044153fe0b",
   "metadata": {},
   "outputs": [],
   "source": [
    "# !pip install opencv-python"
   ]
  },
  {
   "cell_type": "code",
   "execution_count": 2,
   "id": "689ab676-67d8-44ee-9167-b2cb6dfd1f38",
   "metadata": {},
   "outputs": [],
   "source": [
    "import cv2\n",
    "\n",
    "\n",
    "# các thao tác cơ bản trong OpenCV\n",
    "# đọc ảnh:\n",
    "img = cv2.imread('C:/Users/Admin/Documents/CVs/img/5.jpg')\n",
    "# in thông tin\n",
    "# kích thước ảnh\n",
    "img.shape\n",
    "# hiển thị vùng ảnh\n",
    "# cv2.imshow('Siuuu', img)\n",
    "# wait và pause\n",
    "cv2.waitKey(3000)\n",
    "# cv2.destroyWindow('Siuuu')\n",
    "# tách màu\n",
    "b, g , r = cv2.split(img)\n",
    "cv2.imshow(\"Red\", r)\n",
    "cv2.waitKey()\n",
    "cv2.imshow(\"Green\", g)\n",
    "cv2.waitKey()\n",
    "cv2.imshow(\"Blue\", b)\n",
    "cv2.waitKey()\n",
    "# hủy khung ảnh\n",
    "cv2.destroyAllWindows()"
   ]
  },
  {
   "cell_type": "code",
   "execution_count": 5,
   "id": "f0907b43-4bdc-40a0-b819-813ee65bec25",
   "metadata": {},
   "outputs": [],
   "source": [
    "def display(title, img):\n",
    "    cv2.imshow(title,img)\n",
    "    cv2.waitKey(0)\n",
    "    cv2.destroyWindow(title)"
   ]
  },
  {
   "cell_type": "code",
   "execution_count": 22,
   "id": "7cce2c32-b691-4c2a-999f-6e9da398f4ad",
   "metadata": {},
   "outputs": [],
   "source": [
    "import numpy as np\n",
    "img = np.zeros((400,400,3), dtype=np.uint8)\n",
    "display('Image',img)"
   ]
  },
  {
   "cell_type": "code",
   "execution_count": 34,
   "id": "793629a0-6175-4ce0-8a65-e18d72b7c60d",
   "metadata": {},
   "outputs": [],
   "source": [
    "# vẽ đường thẳng\n",
    "cv2.line(img, (50, 50), (365, 365), (255, 0, 0), 1)\n",
    "# vẽ hình tròn\n",
    "cv2.circle(img, (200,200), 150, (0, 255, 0), 1)\n",
    "# vẽ hình chữ nhật\n",
    "cv2.rectangle(img, (200,200), (300,300), (0, 0, 255), 1)\n",
    "# viet chu tren anh\n",
    "content = 'vai ca noi`'\n",
    "font = cv2.FONT_HERSHEY_PLAIN\n",
    "cv2.putText(img,content,(10,300),font,12,(255,255,0),1)\n",
    "display('Image',img)"
   ]
  }
 ],
 "metadata": {
  "kernelspec": {
   "display_name": "Python [conda env:base] *",
   "language": "python",
   "name": "conda-base-py"
  },
  "language_info": {
   "codemirror_mode": {
    "name": "ipython",
    "version": 3
   },
   "file_extension": ".py",
   "mimetype": "text/x-python",
   "name": "python",
   "nbconvert_exporter": "python",
   "pygments_lexer": "ipython3",
   "version": "3.12.3"
  }
 },
 "nbformat": 4,
 "nbformat_minor": 5
}
