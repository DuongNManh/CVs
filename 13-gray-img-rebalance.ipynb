{
 "cells": [
  {
   "cell_type": "code",
   "execution_count": null,
   "id": "4ef52c27-6e2d-4cc1-8ca0-d1cf052cd859",
   "metadata": {},
   "outputs": [],
   "source": [
    "from PIL import Image\n",
    "from IPython.display import display\n",
    "import matplotlib.pyplot as plt\n",
    "import numpy as np"
   ]
  },
  {
   "cell_type": "code",
   "execution_count": null,
   "id": "72efc8f7-f97c-4b3a-b6d9-cb2a1a48221c",
   "metadata": {},
   "outputs": [],
   "source": [
    "def histogram_equalization(img, nbr_bins=256):\n",
    "    # đảm bảo hình ảnh đầu vào là ảnh xám\n",
    "    if img.mode != 'L':\n",
    "        img = img.convert('L')\n",
    "\n",
    "    # chuyển ảnh thành mảng numpy\n",
    "    img_arr = np.array(img)\n",
    "\n",
    "    # tính toán histogram của ảnh\n",
    "    histogram, bins = np.histogram(img_arr, bins=nbr_bins, range=(0,256), density=True)\n",
    "\n",
    "    # tính toán hàm phân phối tích lũy (CDF - Cumlative distribution Func)\n",
    "    cdf = histogram.cumsum()\n",
    "    cdf = 255 * cdf / cdf[-1]\n",
    "\n",
    "    # lấy giá trị mới cho từng pixel dựa trên CDF\n",
    "    img_eq = np.interp(img_arr, bins[:-1], cdf)\n",
    "\n",
    "    # chuyen doi mang ket qua thanh hinh anh\n",
    "    eq_img = Image.fromarray(img_eq.astype('uint8'))\n",
    "\n",
    "    return eq_img"
   ]
  },
  {
   "cell_type": "code",
   "execution_count": null,
   "id": "2c8d84f6-8efb-4f34-8ef8-cccc2b881f86",
   "metadata": {},
   "outputs": [],
   "source": [
    "# duong dan anh\n",
    "my_dir = 'C:/Users/Admin/Documents/CVs/img/'\n",
    "my_path = my_dir + \"2.jpg\";\n",
    "\n",
    "# doc anh\n",
    "img = Image.open(my_path)\n",
    "\n",
    "#chuyen sang anh xam\n",
    "img_gray = img.convert('L')\n",
    "\n",
    "# ap dung can bang luoc do anh xam\n",
    "eq_img = histogram_equalization(img_gray)\n",
    "\n",
    "# tạo lưới 2x2 show ảnh và biểu đồ\n",
    "plt.figure(figsize=(15,10))\n",
    "\n",
    "# ảnh gốc\n",
    "plt.subplot(2,2,1)\n",
    "plt.imshow(img_gray, cmap='gray')\n",
    "plt.title(\"Original\")\n",
    "\n",
    "# ảnh gốc histogram\n",
    "plt.subplot(2,2,2)\n",
    "plt.hist(np.array(img_gray).flatten(), bins = 128)\n",
    "plt.title(\"Original Histogram\")\n",
    "\n",
    "\n",
    "# ảnh đã cân bằng\n",
    "plt.subplot(2,2,3)\n",
    "plt.imshow(eq_img, cmap='gray')\n",
    "plt.title(\"Rebalance\")\n",
    "\n",
    "# ảnh gốc histogram\n",
    "plt.subplot(2,2,4)\n",
    "plt.hist(np.array(eq_img).flatten(), bins = 128)\n",
    "plt.title(\"Rebalance Histogram\")"
   ]
  }
 ],
 "metadata": {
  "kernelspec": {
   "display_name": "Python [conda env:base] *",
   "language": "python",
   "name": "conda-base-py"
  },
  "language_info": {
   "codemirror_mode": {
    "name": "ipython",
    "version": 3
   },
   "file_extension": ".py",
   "mimetype": "text/x-python",
   "name": "python",
   "nbconvert_exporter": "python",
   "pygments_lexer": "ipython3",
   "version": "3.12.7"
  }
 },
 "nbformat": 4,
 "nbformat_minor": 5
}
