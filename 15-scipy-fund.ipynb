{
 "cells": [
  {
   "cell_type": "code",
   "execution_count": null,
   "id": "15b4d0ce-ff51-42c7-86ae-f573c954cba2",
   "metadata": {},
   "outputs": [],
   "source": [
    "from scipy import linalg\n",
    "import numpy as np\n",
    "\n",
    "# he phuong trinh tuyen tinh\n",
    "A = np.array([[1,3],[3,2]])\n",
    "b = np.array([5,7])\n",
    "\n",
    "# giai phuong trinh tuyen tinh\n",
    "x = linalg.solve(A, b)\n",
    "print(\"Result: \", x)"
   ]
  },
  {
   "cell_type": "code",
   "execution_count": null,
   "id": "b49a1375-3355-4962-b4ed-b5f08b497365",
   "metadata": {},
   "outputs": [],
   "source": [
    "# tinh tich phan cua 1 pham so\n",
    "from scipy import integrate\n",
    "\n",
    "# ham so f(x)\n",
    "def f(x):\n",
    "    return x**3\n",
    "\n",
    "# tinh tich phan cua f(x) tu 0 den 1\n",
    "integral = integrate.quad(f, 0, 1)\n",
    "print(\"tich phan: \", integral)"
   ]
  },
  {
   "cell_type": "code",
   "execution_count": null,
   "id": "5fc67b48-330b-4729-8442-b042942d290e",
   "metadata": {},
   "outputs": [],
   "source": [
    "# tinh gia tri rieng va vector rieng cua ma tran\n",
    "matrix = np.array([[1,2,3],[3,5,4],[2,1,3]])\n",
    "\n",
    "evals, evecs = linalg.eig(matrix)\n",
    "\n",
    "print(\"gia tri rieng: \", evals)\n",
    "print(\"vector rieng: \", evecs)"
   ]
  }
 ],
 "metadata": {
  "kernelspec": {
   "display_name": "Python [conda env:base] *",
   "language": "python",
   "name": "conda-base-py"
  },
  "language_info": {
   "codemirror_mode": {
    "name": "ipython",
    "version": 3
   },
   "file_extension": ".py",
   "mimetype": "text/x-python",
   "name": "python",
   "nbconvert_exporter": "python",
   "pygments_lexer": "ipython3",
   "version": "3.12.7"
  },
  "panel-cell-order": [
   "1251a23a-c857-4f52-a9c2-dccce6822703"
  ]
 },
 "nbformat": 4,
 "nbformat_minor": 5
}
