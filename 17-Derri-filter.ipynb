{
 "cells": [
  {
   "cell_type": "code",
   "execution_count": null,
   "id": "04b89b49-643b-4833-943c-eb7414a8cbdc",
   "metadata": {},
   "outputs": [],
   "source": [
    "from PIL import Image\n",
    "from IPython.display import display\n",
    "import matplotlib.pyplot as plt\n",
    "import numpy as np\n",
    "from scipy import ndimage"
   ]
  },
  {
   "cell_type": "code",
   "execution_count": null,
   "id": "64140f87-16ec-4384-ab1e-1c7588df05e4",
   "metadata": {},
   "outputs": [],
   "source": [
    "# duong dan anh\n",
    "my_dir = 'C:/Users/Admin/Documents/CVs/img/'\n",
    "my_path = my_dir + \"3.png\";\n",
    "\n",
    "# doc anh\n",
    "img = Image.open(my_path)\n",
    "\n",
    "#chuyen anh ve array\n",
    "img_arr = np.array(img)\n",
    "print(img_arr.shape)\n",
    "\n",
    "#chuyen sang array anh xam\n",
    "img_gray_arr = np.array(img.convert('L'))\n",
    "print(img_gray_arr.shape)"
   ]
  },
  {
   "cell_type": "code",
   "execution_count": null,
   "id": "c59b875a-d30c-4abe-b6a6-52b3fa8460ed",
   "metadata": {},
   "outputs": [],
   "source": [
    "# thử bộ lọc sobel\n",
    "# tính grandient theo trục x (y)\n",
    "gra_x = ndimage.sobel(img_gray_arr, axis=0, mode='constant')\n",
    "gra_y = ndimage.sobel(img_gray_arr, axis=1, mode='constant')\n",
    "\n",
    "#hiển thị ảnh\n",
    "fig, axs = plt.subplots(3,1, figsize=(10,10))\n",
    "\n",
    "plt.subplot(3,1,1)\n",
    "plt.imshow(img_gray_arr, cmap='gray')\n",
    "plt.title(\"Original\")\n",
    "\n",
    "plt.subplot(3,1,2)\n",
    "plt.imshow(gra_x, cmap='gray')\n",
    "plt.title(\"Gradient X\")\n",
    "\n",
    "plt.subplot(3,1,3)\n",
    "plt.imshow(gra_y, cmap='gray')\n",
    "plt.title(\"Gradient Y\")\n",
    "\n",
    "plt.show()"
   ]
  },
  {
   "cell_type": "code",
   "execution_count": null,
   "id": "75d9d75a-f7b4-469e-b6c6-be1e611c4a02",
   "metadata": {},
   "outputs": [],
   "source": [
    "# thử bộ lọc sobel\n",
    "# tính grandient theo trục x (y)\n",
    "sobel_x = np.array([[-1, 0, 1], [-2, 0, 2], [-1, 0, 1]])\n",
    "sobel_y = np.array([[1, 2, 1], [0, 0, 0], [-1, -2, -1]])\n",
    "\n",
    "gra_x = ndimage.convolve(img_gray_arr, sobel_x, mode='constant')\n",
    "gra_y = ndimage.convolve(img_gray_arr, sobel_y, mode='constant')\n",
    "\n",
    "# tính biên độ gradient\n",
    "gra_mag = np.sqrt(gra_x**2 + gra_y**2)\n",
    "\n",
    "#hiển thị ảnh\n",
    "fig, axs = plt.subplots(2,1, figsize=(10,10))\n",
    "\n",
    "plt.subplot(2,1,1)\n",
    "plt.imshow(img_gray_arr, cmap='gray')\n",
    "plt.title(\"Original\")\n",
    "\n",
    "plt.subplot(2,1,2)\n",
    "plt.imshow(gra_mag, cmap='gray')\n",
    "plt.title(\"Gradient Mag\")\n",
    "\n",
    "plt.show()"
   ]
  }
 ],
 "metadata": {
  "kernelspec": {
   "display_name": "Python [conda env:base] *",
   "language": "python",
   "name": "conda-base-py"
  },
  "language_info": {
   "codemirror_mode": {
    "name": "ipython",
    "version": 3
   },
   "file_extension": ".py",
   "mimetype": "text/x-python",
   "name": "python",
   "nbconvert_exporter": "python",
   "pygments_lexer": "ipython3",
   "version": "3.12.7"
  }
 },
 "nbformat": 4,
 "nbformat_minor": 5
}
