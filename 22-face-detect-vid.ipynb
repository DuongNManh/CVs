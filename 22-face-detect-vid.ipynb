{
 "cells": [
  {
   "cell_type": "code",
   "execution_count": 1,
   "id": "d4e05e5e-1348-4d30-bc8f-5641898814ae",
   "metadata": {},
   "outputs": [],
   "source": [
    "import cv2\n",
    "import time\n",
    "\n",
    "# doc video tu webcam\n",
    "camera = cv2.VideoCapture(0)\n",
    "# vid = cv2.VideoCapture('C:/Users/Admin/Documents/CVs/img/anhtha.mp4')\n",
    "# tao cua so de hien thi\n",
    "cv2.namedWindow('Camera', cv2.WINDOW_NORMAL)\n",
    "\n",
    "# khởi tạo Haar Cascase Classifier nhận diện khuôn mặt\n",
    "face_cascade = cv2.CascadeClassifier('./data/haarcascade_frontalface_default.xml')\n",
    "# khởi tạo HCC nhận diện mắt\n",
    "eye_cascade = cv2.CascadeClassifier('data/haarcascade_eye_tree_eyeglasses.xml')\n",
    "# khởi tạo HCC nhận diện miệng\n",
    "smile_cascade = cv2.CascadeClassifier('data/haarcascade_smile.xml')"
   ]
  },
  {
   "cell_type": "code",
   "execution_count": 2,
   "id": "c04154fe-33cb-4cc0-9f75-4033d57eef11",
   "metadata": {},
   "outputs": [],
   "source": [
    "# gray = ảnh xám \n",
    "# scaleFactor = sau mỗi lần tìm kiếm, giảm kích thước ảnh đi .n x 10% để kiếm các đối tượng nhỏ hơn \n",
    "# minNeighbors = xác định 1 obj là khuôn mặt khi ít nhất n khu vực lân cận dc nhận diện là khuôn mặt\n",
    "# minSize = khuôn mặt tối thiểu là size pixel\n",
    "# define 1 hàm để useable detect liên tục trong video\n",
    "def detector(img):\n",
    "    gray = cv2.cvtColor(img, cv2.COLOR_BGR2GRAY)\n",
    "    faces = face_cascade.detectMultiScale(gray, scaleFactor=1.2, minNeighbors=3, minSize=(5, 5))\n",
    "    eyes = eye_cascade.detectMultiScale(gray, scaleFactor=1.1, minNeighbors=2, minSize=(1, 1))\n",
    "    # setup cac diem phat hien khuon mat\n",
    "    for (x,y,w,h) in faces:\n",
    "        cv2.rectangle(img, (x,y), (x+w,y+h), (0,255,0), 2)\n",
    "    #setup cac diem phat hien mat\n",
    "    for (x,y,w,h) in eyes:\n",
    "        cv2.rectangle(img, (x,y), (x+w,y+h), (0,255,255), 1)\n",
    "    return img"
   ]
  },
  {
   "cell_type": "code",
   "execution_count": 3,
   "id": "d44407cf-697a-4391-b2de-2f02a1439f36",
   "metadata": {},
   "outputs": [],
   "source": [
    "# define \n",
    "def display(title, img):\n",
    "    cv2.imshow(title, img)\n",
    "    cv2.waitKey(0)\n",
    "    cv2.destroyWindow(title)"
   ]
  },
  {
   "cell_type": "code",
   "execution_count": 4,
   "id": "38e7d41f-84e2-4321-b315-90147f6f60f8",
   "metadata": {},
   "outputs": [],
   "source": [
    "frame_count = 0\n",
    "font = cv2.FONT_HERSHEY_PLAIN\n",
    "start_time = time.time()\n",
    "\n",
    "while True:\n",
    "    ret, frame = camera.read()\n",
    "    #ret, frame = vid.read()\n",
    "    if not ret:\n",
    "        break\n",
    "\n",
    "    frame_count += 1\n",
    "    elapsed_time = time.time() - start_time\n",
    "    fps = frame_count / elapsed_time  \n",
    "    fps_text = f'FPS: {fps:.2f}'\n",
    "\n",
    "    # detect\n",
    "    frame = detector(frame)\n",
    "    \n",
    "    cv2.putText(frame, fps_text, (10, 50), font, 2, (255, 255, 0), 2)\n",
    "    cv2.imshow('Camera', frame)\n",
    "    \n",
    "    if cv2.waitKey(10) == ord('q'):\n",
    "        break\n",
    "        \n",
    "camera.release()\n",
    "#vid.release()\n",
    "cv2.destroyAllWindows()"
   ]
  }
 ],
 "metadata": {
  "kernelspec": {
   "display_name": "Python [conda env:base] *",
   "language": "python",
   "name": "conda-base-py"
  },
  "language_info": {
   "codemirror_mode": {
    "name": "ipython",
    "version": 3
   },
   "file_extension": ".py",
   "mimetype": "text/x-python",
   "name": "python",
   "nbconvert_exporter": "python",
   "pygments_lexer": "ipython3",
   "version": "3.12.3"
  }
 },
 "nbformat": 4,
 "nbformat_minor": 5
}
