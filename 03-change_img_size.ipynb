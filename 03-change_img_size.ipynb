{
 "cells": [
  {
   "cell_type": "code",
   "execution_count": 2,
   "id": "6b0865fb-8b91-42af-9e64-1137241ab186",
   "metadata": {
    "editable": true,
    "slideshow": {
     "slide_type": ""
    },
    "tags": []
   },
   "outputs": [],
   "source": [
    "from PIL import Image\n",
    "from imgtools import *\n",
    "from IPython.display import display"
   ]
  },
  {
   "cell_type": "code",
   "execution_count": 3,
   "id": "339de35c-5b64-4e8e-afe5-8b49c9dfe1e1",
   "metadata": {},
   "outputs": [],
   "source": [
    "# duong dan den anh - image path\n",
    "my_dir = 'C:/Users/Admin/Documents/CVs/img/'\n",
    "my_path = my_dir + \"1.png\";"
   ]
  },
  {
   "cell_type": "code",
   "execution_count": 4,
   "id": "0d7056e2-5ef0-47d9-a0ca-ad26f58e282a",
   "metadata": {},
   "outputs": [],
   "source": [
    "# display anh\n",
    "img = load_image(my_path)"
   ]
  },
  {
   "cell_type": "code",
   "execution_count": null,
   "id": "ab48c6d2-3259-4dd1-9daa-0539009134af",
   "metadata": {
    "editable": true,
    "scrolled": true,
    "slideshow": {
     "slide_type": ""
    },
    "tags": []
   },
   "outputs": [],
   "source": [
    "# show anh va kich thuoc ban dau\n",
    "display(img)\n",
    "print(\"first size:\", img.size)"
   ]
  },
  {
   "cell_type": "code",
   "execution_count": null,
   "id": "8d5d0f9a-c5a0-4442-b06b-707f3d26a924",
   "metadata": {
    "editable": true,
    "slideshow": {
     "slide_type": ""
    },
    "tags": []
   },
   "outputs": [],
   "source": [
    "# tao kich thuoc\n",
    "new_size = (150, 150)\n",
    "# tao anh moi\n",
    "new_image = img.resize(new_size)\n",
    "display(new_image)"
   ]
  },
  {
   "cell_type": "code",
   "execution_count": 7,
   "id": "cc4ff906-8400-42c0-a921-53d6af13c70f",
   "metadata": {
    "editable": true,
    "slideshow": {
     "slide_type": ""
    },
    "tags": []
   },
   "outputs": [],
   "source": [
    "# luu anh xuong dir\n",
    "new_image.save(my_dir + \"demo.png\")"
   ]
  }
 ],
 "metadata": {
  "kernelspec": {
   "display_name": "Python [conda env:base] *",
   "language": "python",
   "name": "conda-base-py"
  },
  "language_info": {
   "codemirror_mode": {
    "name": "ipython",
    "version": 3
   },
   "file_extension": ".py",
   "mimetype": "text/x-python",
   "name": "python",
   "nbconvert_exporter": "python",
   "pygments_lexer": "ipython3",
   "version": "3.12.3"
  },
  "panel-cell-order": [
   "1251a23a-c857-4f52-a9c2-dccce6822703"
  ]
 },
 "nbformat": 4,
 "nbformat_minor": 5
}
