{
 "cells": [
  {
   "cell_type": "code",
   "execution_count": null,
   "id": "6b0865fb-8b91-42af-9e64-1137241ab186",
   "metadata": {
    "editable": true,
    "slideshow": {
     "slide_type": ""
    },
    "tags": []
   },
   "outputs": [],
   "source": [
    "from PIL import Image\n",
    "from imgtools import *\n",
    "from IPython.display import display"
   ]
  },
  {
   "cell_type": "code",
   "execution_count": null,
   "id": "339de35c-5b64-4e8e-afe5-8b49c9dfe1e1",
   "metadata": {},
   "outputs": [],
   "source": [
    "# duong dan den anh - image path\n",
    "my_dir = 'C:/Users/Admin/Documents/CVs/img/'\n",
    "my_path = my_dir + \"2.jpg\";"
   ]
  },
  {
   "cell_type": "code",
   "execution_count": null,
   "id": "0d7056e2-5ef0-47d9-a0ca-ad26f58e282a",
   "metadata": {},
   "outputs": [],
   "source": [
    "# doc anh\n",
    "img = load_image(my_path)"
   ]
  },
  {
   "cell_type": "code",
   "execution_count": null,
   "id": "820f2d5b-ae42-4d60-8be1-3880f24987a5",
   "metadata": {},
   "outputs": [],
   "source": [
    "# show anh va kich thuoc ban dau\n",
    "display(img)\n",
    "print(\"first size:\", img.size)"
   ]
  },
  {
   "cell_type": "code",
   "execution_count": null,
   "id": "1be0d4ea-93c5-4202-bd94-caf845e48827",
   "metadata": {},
   "outputs": [],
   "source": [
    "# chuyển ảnh RGB sang ảnh xám\n",
    "gray_img = img.convert(\"L\")\n",
    "display(gray_img)"
   ]
  },
  {
   "cell_type": "code",
   "execution_count": null,
   "id": "93f81aea-86f9-4976-9dce-fad68dda8a0d",
   "metadata": {},
   "outputs": [],
   "source": [
    "# phân ảnh thành 3 tầng RGB\n",
    "red_band, green_band , blue_band = img.split()\n",
    "display(red_band)\n",
    "display(blue_band)\n",
    "display(green_band)"
   ]
  },
  {
   "cell_type": "code",
   "execution_count": null,
   "id": "0f1df510-7872-400c-9fc2-e0960a26e0ef",
   "metadata": {},
   "outputs": [],
   "source": [
    "# trộn ảnh\n",
    "merged_img = Image.merge('RGB', (red_band, green_band, blue_band))\n",
    "display(merged_img)"
   ]
  },
  {
   "cell_type": "code",
   "execution_count": null,
   "id": "572e8865-847a-4abd-9ed9-bec25f88c957",
   "metadata": {},
   "outputs": [],
   "source": [
    "# trộn ảnh ver phá\n",
    "merged_img = Image.merge('RGB', (green_band, blue_band, red_band))\n",
    "display(merged_img)"
   ]
  },
  {
   "cell_type": "code",
   "execution_count": 44,
   "id": "4cdaa0b8-aaf4-4730-8e8d-e99d75a397eb",
   "metadata": {},
   "outputs": [],
   "source": [
    "# nguyên tắc trộn \n",
    "# original_pixel = (R, G, B) = (200, 150, 50)  # Một pixel có màu cam\n",
    "# Kênh Đỏ (Red) = 200\n",
    "# Kênh Xanh Lá (Green) = 150\n",
    "# Kênh Xanh Dương (Blue) = 50\n",
    "# Nếu ta trộn đúng thứ tự (R, G, B), kết quả vẫn là màu gốc: merged_pixel = (200, 150, 50) → Màu cam\n",
    "# Nếu ta trộn với thứ tự (G, B, R),  \"phá\", merged_pixel = (150, 50, 200) → Màu tím ánh xanh"
   ]
  },
  {
   "cell_type": "code",
   "execution_count": null,
   "id": "cc8ba71c-77f3-4529-9778-fbd1e8ae7e5b",
   "metadata": {},
   "outputs": [],
   "source": []
  }
 ],
 "metadata": {
  "kernelspec": {
   "display_name": "Python [conda env:base] *",
   "language": "python",
   "name": "conda-base-py"
  },
  "language_info": {
   "codemirror_mode": {
    "name": "ipython",
    "version": 3
   },
   "file_extension": ".py",
   "mimetype": "text/x-python",
   "name": "python",
   "nbconvert_exporter": "python",
   "pygments_lexer": "ipython3",
   "version": "3.12.3"
  },
  "panel-cell-order": [
   "1251a23a-c857-4f52-a9c2-dccce6822703"
  ]
 },
 "nbformat": 4,
 "nbformat_minor": 5
}
