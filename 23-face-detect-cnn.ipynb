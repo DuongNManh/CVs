{
 "cells": [
  {
   "cell_type": "code",
   "execution_count": 2,
   "id": "e86bdc49-6aeb-48bf-a53e-d19fd7221ff2",
   "metadata": {},
   "outputs": [],
   "source": [
    "import cv2\n",
    "import numpy as np"
   ]
  },
  {
   "cell_type": "code",
   "execution_count": 3,
   "id": "3d47c991-4051-4b91-a2f9-855eaba647a1",
   "metadata": {},
   "outputs": [],
   "source": [
    "# tải ảnh\n",
    "img = cv2.imread('./img/faces.jpg')\n",
    "\n",
    "# hien thi anh goc\n",
    "cv2.imshow('Original',img)\n",
    "cv2.waitKey(0)\n",
    "cv2.destroyAllWindows()"
   ]
  },
  {
   "cell_type": "code",
   "execution_count": 4,
   "id": "f61f7f7b-ed70-4e59-8c91-0f8169d7742a",
   "metadata": {},
   "outputs": [
    {
     "name": "stdout",
     "output_type": "stream",
     "text": [
      "469 660\n",
      "(1, 1, 200, 7)\n",
      "[0.085783   0.35571057 0.15895772 0.47616255]\n",
      "56 166 104 223\n",
      "[0.30504456 0.32615545 0.36922148 0.45471397]\n",
      "201 152 243 213\n",
      "[0.5964006  0.21441548 0.6609324  0.30817837]\n",
      "393 100 436 144\n",
      "[0.45469242 0.24470839 0.52321297 0.35918692]\n",
      "300 114 345 168\n"
     ]
    }
   ],
   "source": [
    "# tải mô hình đã dc huấn luyện\n",
    "net = cv2.dnn.readNetFromCaffe('./models/deploy.prototxt','./models/res10_300x300_ssd_iter_140000_fp16.caffemodel')\n",
    "\n",
    "# chuan bi du lieu dau vao\n",
    "# img ảnh đầu vào\n",
    "# 1.x sau mỗi lần quét sẽ scale down xuống x%\n",
    "# (300,300) kích  thước đầu vào yêu cầu của mô hình\n",
    "# (102,105,113) màu sắc trung bình\n",
    "# swapRB=false: ko đổi màu 2 kênh Red và Blue\n",
    "blob = cv2.dnn.blobFromImage(img, 1.0, (300,300), (102,105,113), swapRB=False)\n",
    "\n",
    "# dat du lieu dau vao cho dnn\n",
    "net.setInput(blob)\n",
    "\n",
    "# chay de phat hien khuon mat\n",
    "faces = net.forward()\n",
    "\n",
    "# lay kich thuoc anh ban dau\n",
    "h = img.shape[0]\n",
    "w = img.shape[1]\n",
    "print(h,w)\n",
    "\n",
    "print(faces.shape)\n",
    "# voi output (1,1,200,7) từ faces var:\n",
    "# 1: chiều đầu tiên có kt 1: đại diện cho số batch size của ảnh đầu vào (th này có 1 ảnh nên size là 1)\n",
    "# 1: Đây là số lớp (classes) hoặc số kích thước (size dimensions) trong dữ liệu đầu ra. Vì đây là mô hình phát hiện khuôn mặt, nó chỉ có một loại đối tượng cần phát hiện—khuôn mặt—nên giá trị này cũng là 1.\n",
    "# 200: số khuôn mặt tối đa mô hình phát hiện được\n",
    "# 7: 7 thông số của mỗi khuôn mặt phát hiện dc\n",
    "    #faces[0,0,i,0]: Giá trị không quan trọng trong mô hình này (thường dùng trong phân loại).\n",
    "    #faces[0,0,i,1]: Lớp của đối tượng (luôn là 1 vì đây là mô hình nhận diện khuôn mặt).\n",
    "    #faces[0,0,i,2]: Độ tin cậy (confidence score) - Giá trị từ 0 đến 1 cho biết mô hình có chắc chắn về khuôn mặt này hay không.\n",
    "    #faces[0,0,i,3]: X_min - Tọa độ x của góc trên bên trái hộp giới hạn (bounding box).\n",
    "    #faces[0,0,i,4]: Y_min - Tọa độ y của góc trên bên trái.\n",
    "    #faces[0,0,i,5]: X_max - Tọa độ x của góc dưới bên phải.\n",
    "    #faces[0,0,i,6]: Y_max - Tọa độ y của góc dưới bên phải.\n",
    "    \n",
    "#print(faces[0,0,5,])\n",
    "# voi output [0. 1. 0.9962274  0.08225593 0.4363947  0.16246499 0.5499648 ]\n",
    "    # 1. đại diện cho lớp khuôn mặt\n",
    "    # 0.9962274: độ tin cậy, ~~ 1 => chắc chắn là mặt theo mô hình\n",
    "    # 4 kq tiếp theo tương ứng 4 tọa độ tương ứng 4 góc phát hiện theo tỉ lệ kích thước thực của từng cạnh là 1\n",
    "\n",
    "# duyet tung khuon mat trong anh dc phat hien\n",
    "for i in range(0, faces.shape[2]):\n",
    "    confi = faces[0,0,i,2] #voi 2 la chi so confidence \n",
    "    # kiểm tra i có confidence >= 0.5\n",
    "    if confi >= 0.5:\n",
    "        # trich xuat toa do face\n",
    "        print(faces[0,0,i,3:7])\n",
    "        # 4 gia tri cuoi cua shape (3:7) cua faces => xác định vị trí khuôn mặt trên ảnh đưa vào\n",
    "        sx = int(faces[0,0,i,3] * w)  # X_min * width\n",
    "        sy = int(faces[0,0,i,4] * h)  # Y_min * height\n",
    "        ex = int(faces[0,0,i,5] * w)  # X_max * width\n",
    "        ey = int(faces[0,0,i,6] * h)  # Y_max * height\n",
    "        print(sx,sy,ex,ey)\n",
    "\n",
    "        # vẽ hình chữ nhật quanh khuôn mặt đã phát hiện\n",
    "        cv2.rectangle(img, (sx,sy), (ex,ey), (255,255,0), 1)\n",
    "        # hiển thị độ tin cậy\n",
    "        text = '{:.2f}%'.format(confi*100)\n",
    "        cv2.putText(img, text, (sx, sy-10), cv2.FONT_HERSHEY_PLAIN, 1, (0,255,255),1)\n",
    "\n",
    "cv2.imshow('Detect',img)\n",
    "cv2.waitKey(0)\n",
    "cv2.destroyAllWindows()"
   ]
  }
 ],
 "metadata": {
  "kernelspec": {
   "display_name": "Python [conda env:base] *",
   "language": "python",
   "name": "conda-base-py"
  },
  "language_info": {
   "codemirror_mode": {
    "name": "ipython",
    "version": 3
   },
   "file_extension": ".py",
   "mimetype": "text/x-python",
   "name": "python",
   "nbconvert_exporter": "python",
   "pygments_lexer": "ipython3",
   "version": "3.12.3"
  },
  "panel-cell-order": [
   "1251a23a-c857-4f52-a9c2-dccce6822703"
  ]
 },
 "nbformat": 4,
 "nbformat_minor": 5
}
