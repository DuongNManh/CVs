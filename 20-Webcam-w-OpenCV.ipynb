{
 "cells": [
  {
   "cell_type": "code",
   "execution_count": 6,
   "id": "d4e05e5e-1348-4d30-bc8f-5641898814ae",
   "metadata": {},
   "outputs": [],
   "source": [
    "import cv2\n",
    "import time\n",
    "\n",
    "# doc video tu webcam\n",
    "camera = cv2.VideoCapture(0)\n",
    "# tao cua so de hien thi\n",
    "cv2.namedWindow('Camera', cv2.WINDOW_NORMAL)"
   ]
  },
  {
   "cell_type": "code",
   "execution_count": 12,
   "id": "39a435f1-b187-44a2-87bf-dc810be161ab",
   "metadata": {},
   "outputs": [],
   "source": [
    "frame_count = 0\n",
    "font = cv2.FONT_HERSHEY_PLAIN\n",
    "start_time = time.time()\n",
    "# hien thi tung khung anh trong video\n",
    "while True:\n",
    "    # doc frame tu file video\n",
    "    ret, frame = camera.read()\n",
    "   \n",
    "    # thoat khi ko the doc frame\n",
    "    if not ret:\n",
    "        break\n",
    "        \n",
    "    # tinh fps\n",
    "    frame_count += 1\n",
    "    elapsed_time = time.time() - start_time\n",
    "    fps = frame_count / elapsed_time  # Average FPS over time\n",
    "    fps = f'FPS: {fps:.2f}'\n",
    "    # fps\n",
    "    cv2.putText(frame, fps, (10, 50), font, 2, (255, 255, 0), 2)\n",
    "    # hien thi\n",
    "    cv2.imshow('Camera', frame)\n",
    "\n",
    "    if(cv2.waitKey(10) == ord('q')):\n",
    "        break\n",
    "        \n",
    "# huy bo player\n",
    "camera.release\n",
    "cv2.destroyAllWindows()"
   ]
  },
  {
   "cell_type": "code",
   "execution_count": null,
   "id": "c7f5a26e-8788-445c-9106-514285a0240e",
   "metadata": {},
   "outputs": [],
   "source": [
    "import cv2\n",
    "import time\n",
    "\n",
    "camera = cv2.VideoCapture(0)\n",
    "cv2.namedWindow('Camera', cv2.WINDOW_NORMAL)\n",
    "\n",
    "interval = 5  # Capture every 5 seconds\n",
    "frame_count = 0\n",
    "font = cv2.FONT_HERSHEY_PLAIN\n",
    "start_time = time.time()\n",
    "last_capture_time = start_time\n",
    "image_counter = 0\n",
    "\n",
    "while True:\n",
    "    ret, frame = camera.read()\n",
    "    if not ret:\n",
    "        break\n",
    "\n",
    "    frame_count += 1\n",
    "    elapsed_time = time.time() - start_time\n",
    "    fps = frame_count / elapsed_time  \n",
    "    fps_text = f'FPS: {fps:.2f}'\n",
    "    \n",
    "    cv2.putText(frame, fps_text, (10, 50), font, 2, (255, 255, 0), 2)\n",
    "    cv2.imshow('Camera', frame)\n",
    "\n",
    "    current_time = time.time()\n",
    "    \n",
    "    if current_time - last_capture_time >= interval:\n",
    "        image_filename = f'image_{image_counter}.jpg'\n",
    "        cv2.imwrite(image_filename, frame)\n",
    "        print(f\"Saved {image_filename}\")\n",
    "        image_counter += 1\n",
    "        last_capture_time = current_time\n",
    "\n",
    "    if cv2.waitKey(10) == ord('q'):\n",
    "        break\n",
    "        \n",
    "camera.release()\n",
    "cv2.destroyAllWindows()\n"
   ]
  }
 ],
 "metadata": {
  "kernelspec": {
   "display_name": "Python [conda env:base] *",
   "language": "python",
   "name": "conda-base-py"
  },
  "language_info": {
   "codemirror_mode": {
    "name": "ipython",
    "version": 3
   },
   "file_extension": ".py",
   "mimetype": "text/x-python",
   "name": "python",
   "nbconvert_exporter": "python",
   "pygments_lexer": "ipython3",
   "version": "3.12.3"
  }
 },
 "nbformat": 4,
 "nbformat_minor": 5
}
