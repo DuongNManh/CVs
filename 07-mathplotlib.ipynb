{
 "cells": [
  {
   "cell_type": "code",
   "execution_count": null,
   "id": "9fb89d88-fd66-4594-a599-44cc3f5e1176",
   "metadata": {},
   "outputs": [],
   "source": [
    "import matplotlib as mpl\n",
    "import matplotlib.pyplot as plt\n",
    "from PIL import Image"
   ]
  },
  {
   "cell_type": "code",
   "execution_count": null,
   "id": "6b0cb976-a20b-4542-a5be-ed918212632d",
   "metadata": {},
   "outputs": [],
   "source": [
    "# duong dan anh\n",
    "my_dir = 'C:/Users/Admin/Documents/CVs/img/'\n",
    "my_path = my_dir + \"2.jpg\";\n",
    "# doc anh va hien thi\n",
    "img = Image.open(my_path)\n",
    "# display(img)\n",
    "plt.imshow(img)"
   ]
  },
  {
   "cell_type": "code",
   "execution_count": null,
   "id": "e49f82c1-49ef-451f-b913-14963a6df43b",
   "metadata": {},
   "outputs": [],
   "source": [
    "# ve do thi co ban\n",
    "x = [1, 2, 3, 4, 5]\n",
    "y = [10, 24, 31, 29, 42]\n",
    "plt.plot(x,y, color='red')\n",
    "plt.title('Graph')\n",
    "plt.show()"
   ]
  },
  {
   "cell_type": "code",
   "execution_count": null,
   "id": "185ed5e8-b632-44f2-a79b-208b6779b725",
   "metadata": {},
   "outputs": [],
   "source": [
    "# ve do thi co ban"
   ]
  },
  {
   "cell_type": "code",
   "execution_count": null,
   "id": "e172ae7f-b682-4b1e-b8f9-b9a238442e5f",
   "metadata": {},
   "outputs": [],
   "source": [
    "# ve do thi co ban\n",
    "x = [100, 200, 300, 400, 500]\n",
    "y = [200, 300, 400, 200, 300]\n",
    "plt.title('Graph')\n",
    "plt.imshow(img)\n",
    "plt.plot(x,y, 'b*')\n",
    "plt.plot(x,y, 'y--')\n",
    "plt.show()"
   ]
  },
  {
   "cell_type": "code",
   "execution_count": null,
   "id": "7621ad77-104f-41d6-836f-d53001b6f522",
   "metadata": {},
   "outputs": [],
   "source": [
    "#line chart\n",
    "# biểu diễn  dữ liệu theo 1 loạt các điểm dữ liệu được nối với nhau bằng các đoạn thẳng\n",
    "x = [100, 200, 300, 400, 500]\n",
    "y = [200, 300, 400, 200, 300]\n",
    "\n",
    "y1 = [100, 200, 300, 400, 500]\n",
    "x1 = [200, 300, 400, 200, 300]\n",
    "\n",
    "plt.plot(x, y, 'bo-', label='data') #duong data so 1\n",
    "plt.plot(x1, y1, 'ro-', label='data_1') #duong data so 2\n",
    "plt.legend() #chu thich\n",
    "plt.xlabel('x axis') #dat ten cho truc x\n",
    "plt.ylabel('y axis') #dat ten cho truc y\n",
    "plt.title('Line chart')\n",
    "plt.show()"
   ]
  },
  {
   "cell_type": "code",
   "execution_count": null,
   "id": "f85b8b44-34ad-43cd-9af4-03831c7f3ebe",
   "metadata": {},
   "outputs": [],
   "source": [
    "#bar chart\n",
    "#hiển thị dữ liệu theo các cột dọc, với chiều cao của mỗi cột biểu thị giá trị tương ứng, biểu diễn rời rạc\n",
    "categories = ['A', 'B', 'C', 'D', 'E']\n",
    "values = [200, 300, 400, 200, 300]\n",
    "\n",
    "plt.bar(categories, values, color='y', alpha=0.8) #duong data so 1\n",
    "plt.xlabel('Categories') #dat ten cho truc x\n",
    "plt.ylabel('Values') #dat ten cho truc y\n",
    "plt.title('Bar chart')\n",
    "plt.show()"
   ]
  },
  {
   "cell_type": "code",
   "execution_count": null,
   "id": "8493aca9-f233-45e4-9ff9-89ff0270dfde",
   "metadata": {},
   "outputs": [],
   "source": [
    "#Pie chart\n",
    "#hiển thị dữ liệu tương ứng theo phần trăm của tổng giá trị, dùng để biểu diễn cơ cấu, phân chia, tỉ lệ trong 1 tập data\n",
    "categories = ['A', 'B', 'C', 'D', 'E']\n",
    "values = [200, 300, 400, 200, 300]\n",
    "colors = ['red', 'green', 'blue', 'yellow', 'purple']\n",
    "\n",
    "plt.pie(values, labels=categories, colors=colors, autopct='%1.1f%%') #ve bieu do hinh tron\n",
    "plt.title('Pie Chart')\n",
    "plt.show()"
   ]
  },
  {
   "cell_type": "code",
   "execution_count": null,
   "id": "570bfbf5-6ffe-496c-b930-64935de37206",
   "metadata": {},
   "outputs": [],
   "source": [
    "#Scatter Plot\n",
    "#biểu đồ trong đó các dữ liệu được biểu diễn dưới dạng các điểm nằm trên một mặt phẳng tọa độ.\n",
    "values_1 = [200, 300, 400, 200, 300]\n",
    "values_2 = [10, 40, 60, 20, 70]\n",
    "\n",
    "plt.scatter(values_1, values_2, c='blue', label='data') # sử dụng 'c' để định màu sắc cho điểm\n",
    "plt.legend() #chu thich\n",
    "plt.xlabel('x axis') #dat ten cho truc x\n",
    "plt.ylabel('y axis') #dat ten cho truc y\n",
    "plt.title('Scatter plot')\n",
    "plt.show()"
   ]
  },
  {
   "cell_type": "code",
   "execution_count": null,
   "id": "e50cd09e-f907-48bd-b446-143871f6d6de",
   "metadata": {},
   "outputs": [],
   "source": [
    "#Box Plot\n",
    "#biểu đồ biểu diễn sự phân bố dữ liệu trong 1 tập dữ liệu\n",
    "values_1 = [200, 200, 100, 200, 300, 10, 40, 60, 20, 70]\n",
    "\n",
    "plt.boxplot(values_1) # sử dụng 'c' để định màu sắc cho điểm\n",
    "plt.xlabel('x axis') #dat ten cho truc x\n",
    "plt.ylabel('y axis') #dat ten cho truc y\n",
    "plt.title('Box plot')\n",
    "plt.show()"
   ]
  },
  {
   "cell_type": "code",
   "execution_count": null,
   "id": "e5a06903-e710-4131-938b-9e363656ed73",
   "metadata": {},
   "outputs": [],
   "source": [
    "#Box Plot\n",
    "#biểu đồ biểu diễn sự phân bố dữ liệu trong 1 tập dữ liệu\n",
    "values_1 = [200, 200, 100, 200, 300, 10, 40, 60, 20, 70]\n",
    "\n",
    "plt.violinplot(values_1) # sử dụng 'c' để định màu sắc cho điểm\n",
    "plt.xlabel('x axis') #dat ten cho truc x\n",
    "plt.ylabel('y axis') #dat ten cho truc y\n",
    "plt.title('Violin plot')\n",
    "plt.show()"
   ]
  },
  {
   "cell_type": "code",
   "execution_count": null,
   "id": "28791c49-8506-452d-b5ed-285ea4eb7c37",
   "metadata": {},
   "outputs": [],
   "source": [
    "# !pip install wordcloud\n",
    "from wordcloud import WordCloud\n",
    "import matplotlib.pyplot as plt\n",
    "\n",
    "text = \"Learn how to write effective prompts for AI agents using Langbase. The post covers essential techniques such as defining clear goals, experimenting with prompts, using specific instructions, and applying advanced methods like few-shot training, memory-augmented prompting, and role-based prompting.\"\n",
    "\n",
    "wordcloud = WordCloud(width=800, height=400).generate(text)\n",
    "\n",
    "plt.imshow(wordcloud, interpolation='bilinear')\n",
    "plt.axis('off')\n",
    "plt.title('Cloud Plot of Word')\n",
    "plt.show()"
   ]
  },
  {
   "cell_type": "code",
   "execution_count": null,
   "id": "2d288e4d-bc7a-4711-a542-89af88532262",
   "metadata": {},
   "outputs": [],
   "source": [
    "import matplotlib.pyplot as plt\n",
    "import numpy as np\n",
    "\n",
    "categories = ['A', 'B', 'C', 'D', 'E']\n",
    "values = [2, 3, 4, 2, 3]\n",
    "\n",
    "N = len(categories)\n",
    "values += values[:1]\n",
    "\n",
    "angles = [n / float(N) * 2 * np.pi for n in range(N)]\n",
    "angles += angles[:1]\n",
    "\n",
    "plt.polar(angles, values, 'o-', linewidth=1)\n",
    "plt.fill(angles, values, 'g', alpha=0.1)\n",
    "plt.title('Polar chart')\n",
    "plt.show()"
   ]
  }
 ],
 "metadata": {
  "kernelspec": {
   "display_name": "Python [conda env:base] *",
   "language": "python",
   "name": "conda-base-py"
  },
  "language_info": {
   "codemirror_mode": {
    "name": "ipython",
    "version": 3
   },
   "file_extension": ".py",
   "mimetype": "text/x-python",
   "name": "python",
   "nbconvert_exporter": "python",
   "pygments_lexer": "ipython3",
   "version": "3.12.7"
  }
 },
 "nbformat": 4,
 "nbformat_minor": 5
}
