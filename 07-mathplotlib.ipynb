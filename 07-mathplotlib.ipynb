{
 "cells": [
  {
   "cell_type": "code",
   "execution_count": null,
   "id": "9fb89d88-fd66-4594-a599-44cc3f5e1176",
   "metadata": {},
   "outputs": [],
   "source": [
    "import matplotlib as mpl\n",
    "import matplotlib.pyplot as plt\n",
    "from PIL import Image"
   ]
  },
  {
   "cell_type": "code",
   "execution_count": null,
   "id": "6b0cb976-a20b-4542-a5be-ed918212632d",
   "metadata": {},
   "outputs": [],
   "source": [
    "# duong dan anh\n",
    "my_dir = 'C:/Users/Admin/Documents/CVs/img/'\n",
    "my_path = my_dir + \"2.jpg\";\n",
    "# doc anh va hien thi\n",
    "img = Image.open(my_path)\n",
    "# display(img)\n",
    "plt.imshow(img)"
   ]
  },
  {
   "cell_type": "code",
   "execution_count": null,
   "id": "e49f82c1-49ef-451f-b913-14963a6df43b",
   "metadata": {},
   "outputs": [],
   "source": [
    "# ve do thi co ban\n",
    "x = [1, 2, 3, 4, 5]\n",
    "y = [10, 24, 31, 29, 42]\n",
    "plt.plot(x,y, color='red')\n",
    "plt.title('Graph')\n",
    "plt.show()"
   ]
  },
  {
   "cell_type": "code",
   "execution_count": null,
   "id": "185ed5e8-b632-44f2-a79b-208b6779b725",
   "metadata": {},
   "outputs": [],
   "source": [
    "# ve do thi co ban"
   ]
  },
  {
   "cell_type": "code",
   "execution_count": null,
   "id": "e172ae7f-b682-4b1e-b8f9-b9a238442e5f",
   "metadata": {},
   "outputs": [],
   "source": [
    "# ve do thi co ban\n",
    "x = [100, 200, 300, 400, 500]\n",
    "y = [200, 300, 400, 200, 300]\n",
    "plt.title('Graph')\n",
    "plt.imshow(img)\n",
    "plt.plot(x,y, 'b*')\n",
    "plt.plot(x,y, 'y--')\n",
    "plt.show()"
   ]
  },
  {
   "cell_type": "code",
   "execution_count": null,
   "id": "7621ad77-104f-41d6-836f-d53001b6f522",
   "metadata": {},
   "outputs": [],
   "source": [
    "#line chart\n",
    "# biểu diễn  dữ liệu theo 1 loạt các điểm dữ liệu được nối với nhau bằng các đoạn thẳng\n",
    "x = [100, 200, 300, 400, 500]\n",
    "y = [200, 300, 400, 200, 300]\n",
    "\n",
    "y1 = [100, 200, 300, 400, 500]\n",
    "x1 = [200, 300, 400, 200, 300]\n",
    "\n",
    "plt.plot(x, y, 'bo-', label='data') #duong data so 1\n",
    "plt.plot(x1, y1, 'ro-', label='data_1') #duong data so 2\n",
    "plt.legend() #chu thich\n",
    "plt.xlabel('x axis') #dat ten cho truc x\n",
    "plt.ylabel('y axis') #dat ten cho truc y\n",
    "plt.show()"
   ]
  },
  {
   "cell_type": "code",
   "execution_count": null,
   "id": "f85b8b44-34ad-43cd-9af4-03831c7f3ebe",
   "metadata": {},
   "outputs": [],
   "source": [
    "#bar chart\n",
    "#hiển thị dữ liệu theo các cột dọc, với chiều cao của mỗi cột biểu thị giá trị tương ứng, biểu diễn rời rạc\n",
    "categories = ['A', 'B', 'C', 'D', 'E']\n",
    "values = [200, 300, 400, 200, 300]\n",
    "\n",
    "plt.bar(categories, values, color='y', alpha=0.8) #duong data so 1\n",
    "plt.xlabel('Categories') #dat ten cho truc x\n",
    "plt.ylabel('Values') #dat ten cho truc y\n",
    "plt.show()"
   ]
  },
  {
   "cell_type": "code",
   "execution_count": null,
   "id": "570bfbf5-6ffe-496c-b930-64935de37206",
   "metadata": {},
   "outputs": [],
   "source": []
  }
 ],
 "metadata": {
  "kernelspec": {
   "display_name": "Python [conda env:base] *",
   "language": "python",
   "name": "conda-base-py"
  },
  "language_info": {
   "codemirror_mode": {
    "name": "ipython",
    "version": 3
   },
   "file_extension": ".py",
   "mimetype": "text/x-python",
   "name": "python",
   "nbconvert_exporter": "python",
   "pygments_lexer": "ipython3",
   "version": "3.12.7"
  }
 },
 "nbformat": 4,
 "nbformat_minor": 5
}
